{
 "cells": [
  {
   "cell_type": "markdown",
   "metadata": {},
   "source": [
    "# Problem 1\n",
    "Write a function named `sum_list` that takes in a single parameter (a list) and returns the sum.  Once finished, you should call the function and print the value that is returned.  A list is provided for you to use as a parameter."
   ]
  },
  {
   "cell_type": "code",
   "execution_count": 1,
   "metadata": {},
   "outputs": [
    {
     "name": "stdout",
     "output_type": "stream",
     "text": [
      "45\n"
     ]
    }
   ],
   "source": [
    "my_list = [x for x in range(1,10)]\n",
    "\n",
    "\n",
    "def sum_list(list1):\n",
    "    count = 0\n",
    "    for x in list1:\n",
    "        count += x\n",
    "    print(count)\n",
    "    \n",
    "    \n",
    "sum_list(my_list)\n"
   ]
  },
  {
   "cell_type": "markdown",
   "metadata": {},
   "source": [
    "# Problem 2\n",
    "Write a function that finds the smallest of three numbers passed in as arguments.  The function should print the smallest number.  Once you finish the function, call it three times with three different sets of numbers: one where the first argument is the smallest, one where the second is the smallest, and one where the third is the smallest."
   ]
  },
  {
   "cell_type": "code",
   "execution_count": 6,
   "metadata": {},
   "outputs": [
    {
     "name": "stdout",
     "output_type": "stream",
     "text": [
      "Enter first number :  5\n",
      "Enter second number :  36\n",
      "Enter third number :  3\n"
     ]
    },
    {
     "name": "stdout",
     "output_type": "stream",
     "text": [
      "The smallest of all three numbers is :  3\n"
     ]
    }
   ],
   "source": [
    "number1 = int(input('Enter first number : '))\n",
    "number2 = int(input('Enter second number : '))\n",
    "number3 = int(input('Enter third number : '))\n",
    "def smallest(num1, num2, num3):\n",
    "    if(num1 < num2) and (num1 < num3):\n",
    "        smallest_num = num1\n",
    "    elif(num2 < num1) and (num2 < num3):\n",
    "        smalle3st_num = num2\n",
    "    else:\n",
    "        smallest_num = num3\n",
    "    print(\"The smallest of all three numbers is : \", smallest_num)\n",
    "smallest(number1,number2,number3)"
   ]
  },
  {
   "cell_type": "markdown",
   "metadata": {},
   "source": [
    "# Problem 3\n",
    "Write a function that takes a single string as a parameter.  This function should reverse the string and print it out.  The parameter should be a named parameter that has a default value of an empty string.  Once finished, you should call the function with at least two different words.\n"
   ]
  },
  {
   "cell_type": "code",
   "execution_count": 3,
   "metadata": {},
   "outputs": [
    {
     "name": "stdout",
     "output_type": "stream",
     "text": [
      "ooolleh\n",
      "dddlrow\n"
     ]
    }
   ],
   "source": [
    "def reverse_string(string=\"\"):\n",
    "    print(string[::-1])\n",
    "reverse_string(\"hellooo\")\n",
    "reverse_string(\"worlddd\")"
   ]
  },
  {
   "cell_type": "markdown",
   "metadata": {},
   "source": [
    "# Problem 4\n",
    "Write a function that takes a single string as a parameter.  The function should then total up the number of lowercase and uppercase characters.  It should also print these totals in a clear way.  Be sure to call the function with a couple of sample words once you finish."
   ]
  },
  {
   "cell_type": "code",
   "execution_count": 7,
   "metadata": {},
   "outputs": [
    {
     "name": "stdout",
     "output_type": "stream",
     "text": [
      "The original string is :  Why do you cry\n",
      "Number of upper case letters :  1\n",
      "Number of lower case letters :  10\n"
     ]
    }
   ],
   "source": [
    "def string_test(s):\n",
    "    d={\"UPPER_CASE\":0, \"LOWER_CASE\":0}\n",
    "    for c in s:\n",
    "        if c.isupper():\n",
    "            d[\"UPPER_CASE\"]+=1\n",
    "        elif c.islower():\n",
    "            d[\"LOWER_CASE\"]+=1 \n",
    "        else:\n",
    "            pass\n",
    "    print(\"The original string is : \", s)    \n",
    "    print(\"Number of upper case letters : \",d[\"UPPER_CASE\"])\n",
    "    print(\"Number of lower case letters : \",d[\"LOWER_CASE\"])\n",
    "string_test('Why do you cry')"
   ]
  },
  {
   "cell_type": "markdown",
   "metadata": {},
   "source": [
    "# Problem 5\n",
    "Write a function that takes a string and determines if it is a pangram or not and prints the result.  A string is a pangram if it contains all of the letters of the alphabet."
   ]
  },
  {
   "cell_type": "code",
   "execution_count": 14,
   "metadata": {},
   "outputs": [
    {
     "name": "stdout",
     "output_type": "stream",
     "text": [
      "Yes it is\n",
      "No is is not\n",
      "No is is not\n"
     ]
    }
   ],
   "source": [
    "\n",
    "if (ispanagram(string) == True):import string\n",
    "\n",
    "def ispanagram(str):\n",
    "    alphabet = \"abcdefghijklmnopqrstuvwxyz\"\n",
    "    for char in alphabet:\n",
    "        if char not in str.lower():\n",
    "            return False\n",
    "    return True \n",
    "string= \"abcdefghijklmnopqrstuvwxyz\"\n",
    "if (ispanagram(string) == True):\n",
    "    print(\"Yes it is\")\n",
    "else:\n",
    "    print(\"No is is not\")\n",
    "string= \"abcdefghijklm\"\n",
    "    print(\"Yes it is\")\n",
    "else:\n",
    "    print(\"No is is not\")\n",
    "string= \"No way you did that\"\n",
    "if (ispanagram(string) == True):\n",
    "    print(\"Yes it is\")\n",
    "else:\n",
    "    print(\"No is is not\")\n",
    "    "
   ]
  },
  {
   "cell_type": "code",
   "execution_count": null,
   "metadata": {},
   "outputs": [],
   "source": []
  }
 ],
 "metadata": {
  "kernelspec": {
   "display_name": "Python 3.10.6 64-bit",
   "language": "python",
   "name": "python3"
  },
  "language_info": {
   "codemirror_mode": {
    "name": "ipython",
    "version": 3
   },
   "file_extension": ".py",
   "mimetype": "text/x-python",
   "name": "python",
   "nbconvert_exporter": "python",
   "pygments_lexer": "ipython3",
   "version": "3.10.6"
  },
  "vscode": {
   "interpreter": {
    "hash": "e5bd1626afdf9048efb01f9bcff8baa06829146e3dd717bbe0458328142e654e"
   }
  }
 },
 "nbformat": 4,
 "nbformat_minor": 4
}
